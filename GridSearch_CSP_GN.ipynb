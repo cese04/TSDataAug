{
 "cells": [
  {
   "cell_type": "code",
   "execution_count": 1,
   "metadata": {
    "colab": {
     "base_uri": "https://localhost:8080/",
     "height": 136
    },
    "colab_type": "code",
    "executionInfo": {
     "elapsed": 6421,
     "status": "ok",
     "timestamp": 1574658738916,
     "user": {
      "displayName": "Carlos Emiliano Solorzano",
      "photoUrl": "https://lh3.googleusercontent.com/a-/AAuE7mAI0xsA-94mmMCv6P3qVs_r9N2cUt7wGRxyCP83c-M=s64",
      "userId": "18444532791108978567"
     },
     "user_tz": 360
    },
    "id": "Fjufie8p-TUi",
    "outputId": "b1e47ab3-1cad-4f6c-ea20-1c03f2bc4c30"
   },
   "outputs": [
    {
     "name": "stdout",
     "output_type": "stream",
     "text": [
      "Collecting mne\n",
      "\u001b[?25l  Downloading https://files.pythonhosted.org/packages/a1/7c/ad1b52a3fdd4be8f55e183f1eff7d76f48cd1bee83c5630f9c26770e032e/mne-0.19.2-py3-none-any.whl (6.4MB)\n",
      "\u001b[K     |████████████████████████████████| 6.4MB 3.1MB/s \n",
      "\u001b[?25hRequirement already satisfied: numpy>=1.11.3 in /usr/local/lib/python3.6/dist-packages (from mne) (1.17.4)\n",
      "Requirement already satisfied: scipy>=0.17.1 in /usr/local/lib/python3.6/dist-packages (from mne) (1.3.2)\n",
      "Installing collected packages: mne\n",
      "Successfully installed mne-0.19.2\n"
     ]
    }
   ],
   "source": [
    "!pip install mne"
   ]
  },
  {
   "cell_type": "code",
   "execution_count": 1,
   "metadata": {
    "colab": {},
    "colab_type": "code",
    "id": "-OyKzYV09-P1"
   },
   "outputs": [
    {
     "output_type": "error",
     "ename": "ModuleNotFoundError",
     "evalue": "No module named 'mne'",
     "traceback": [
      "\u001b[1;31m---------------------------------------------------------------------------\u001b[0m",
      "\u001b[1;31mModuleNotFoundError\u001b[0m                       Traceback (most recent call last)",
      "\u001b[1;32m<ipython-input-1-1a2b18a50eb9>\u001b[0m in \u001b[0;36m<module>\u001b[1;34m\u001b[0m\n\u001b[0;32m      1\u001b[0m \u001b[1;32mimport\u001b[0m \u001b[0mnumpy\u001b[0m \u001b[1;32mas\u001b[0m \u001b[0mnp\u001b[0m\u001b[1;33m\u001b[0m\u001b[1;33m\u001b[0m\u001b[0m\n\u001b[0;32m      2\u001b[0m \u001b[1;32mfrom\u001b[0m \u001b[0msklearn\u001b[0m\u001b[1;33m.\u001b[0m\u001b[0mpipeline\u001b[0m \u001b[1;32mimport\u001b[0m \u001b[0mPipeline\u001b[0m\u001b[1;33m\u001b[0m\u001b[1;33m\u001b[0m\u001b[0m\n\u001b[1;32m----> 3\u001b[1;33m \u001b[1;32mfrom\u001b[0m \u001b[0mmne\u001b[0m\u001b[1;33m.\u001b[0m\u001b[0mdecoding\u001b[0m \u001b[1;32mimport\u001b[0m \u001b[0mCSP\u001b[0m\u001b[1;33m\u001b[0m\u001b[1;33m\u001b[0m\u001b[0m\n\u001b[0m\u001b[0;32m      4\u001b[0m \u001b[1;32mfrom\u001b[0m \u001b[0msklearn\u001b[0m\u001b[1;33m.\u001b[0m\u001b[0mdiscriminant_analysis\u001b[0m \u001b[1;32mimport\u001b[0m \u001b[0mLinearDiscriminantAnalysis\u001b[0m \u001b[1;32mas\u001b[0m \u001b[0mLDA\u001b[0m\u001b[1;33m\u001b[0m\u001b[1;33m\u001b[0m\u001b[0m\n\u001b[0;32m      5\u001b[0m \u001b[1;32mfrom\u001b[0m \u001b[0msklearn\u001b[0m\u001b[1;33m.\u001b[0m\u001b[0mmodel_selection\u001b[0m \u001b[1;32mimport\u001b[0m \u001b[0mGridSearchCV\u001b[0m\u001b[1;33m\u001b[0m\u001b[1;33m\u001b[0m\u001b[0m\n",
      "\u001b[1;31mModuleNotFoundError\u001b[0m: No module named 'mne'"
     ]
    }
   ],
   "source": [
    "import numpy as np\n",
    "from sklearn.pipeline import Pipeline\n",
    "from mne.decoding import CSP\n",
    "from sklearn.discriminant_analysis import LinearDiscriminantAnalysis as LDA\n",
    "from sklearn.model_selection import GridSearchCV\n",
    "import pandas as pd\n"
   ]
  },
  {
   "cell_type": "code",
   "execution_count": 3,
   "metadata": {
    "colab": {
     "base_uri": "https://localhost:8080/",
     "height": 122
    },
    "colab_type": "code",
    "executionInfo": {
     "elapsed": 24983,
     "status": "ok",
     "timestamp": 1574658780556,
     "user": {
      "displayName": "Carlos Emiliano Solorzano",
      "photoUrl": "https://lh3.googleusercontent.com/a-/AAuE7mAI0xsA-94mmMCv6P3qVs_r9N2cUt7wGRxyCP83c-M=s64",
      "userId": "18444532791108978567"
     },
     "user_tz": 360
    },
    "id": "iJ1JIVoM-cUU",
    "outputId": "a010685d-687e-4e77-a3e9-ba92be644e5a"
   },
   "outputs": [
    {
     "name": "stdout",
     "output_type": "stream",
     "text": [
      "Go to this URL in a browser: https://accounts.google.com/o/oauth2/auth?client_id=947318989803-6bn6qk8qdgf4n4g3pfee6491hc0brc4i.apps.googleusercontent.com&redirect_uri=urn%3aietf%3awg%3aoauth%3a2.0%3aoob&response_type=code&scope=email%20https%3a%2f%2fwww.googleapis.com%2fauth%2fdocs.test%20https%3a%2f%2fwww.googleapis.com%2fauth%2fdrive%20https%3a%2f%2fwww.googleapis.com%2fauth%2fdrive.photos.readonly%20https%3a%2f%2fwww.googleapis.com%2fauth%2fpeopleapi.readonly\n",
      "\n",
      "Enter your authorization code:\n",
      "··········\n",
      "Mounted at /content/drive\n"
     ]
    }
   ],
   "source": [
    "from google.colab import drive\n",
    "drive.mount('/content/drive')"
   ]
  },
  {
   "cell_type": "code",
   "execution_count": 6,
   "metadata": {
    "colab": {
     "base_uri": "https://localhost:8080/",
     "height": 204
    },
    "colab_type": "code",
    "executionInfo": {
     "elapsed": 2526,
     "status": "ok",
     "timestamp": 1574658814076,
     "user": {
      "displayName": "Carlos Emiliano Solorzano",
      "photoUrl": "https://lh3.googleusercontent.com/a-/AAuE7mAI0xsA-94mmMCv6P3qVs_r9N2cUt7wGRxyCP83c-M=s64",
      "userId": "18444532791108978567"
     },
     "user_tz": 360
    },
    "id": "Lqm1Xn3K9-P5",
    "outputId": "85727aca-93a8-4c37-cfe1-b8b500c42caa"
   },
   "outputs": [
    {
     "data": {
      "text/html": [
       "<div>\n",
       "<style scoped>\n",
       "    .dataframe tbody tr th:only-of-type {\n",
       "        vertical-align: middle;\n",
       "    }\n",
       "\n",
       "    .dataframe tbody tr th {\n",
       "        vertical-align: top;\n",
       "    }\n",
       "\n",
       "    .dataframe thead th {\n",
       "        text-align: right;\n",
       "    }\n",
       "</style>\n",
       "<table border=\"1\" class=\"dataframe\">\n",
       "  <thead>\n",
       "    <tr style=\"text-align: right;\">\n",
       "      <th></th>\n",
       "      <th>Unnamed: 0</th>\n",
       "      <th>subject</th>\n",
       "      <th>session</th>\n",
       "      <th>run</th>\n",
       "    </tr>\n",
       "  </thead>\n",
       "  <tbody>\n",
       "    <tr>\n",
       "      <th>0</th>\n",
       "      <td>0</td>\n",
       "      <td>1</td>\n",
       "      <td>session_T</td>\n",
       "      <td>run_3</td>\n",
       "    </tr>\n",
       "    <tr>\n",
       "      <th>1</th>\n",
       "      <td>1</td>\n",
       "      <td>1</td>\n",
       "      <td>session_T</td>\n",
       "      <td>run_3</td>\n",
       "    </tr>\n",
       "    <tr>\n",
       "      <th>2</th>\n",
       "      <td>2</td>\n",
       "      <td>1</td>\n",
       "      <td>session_T</td>\n",
       "      <td>run_3</td>\n",
       "    </tr>\n",
       "    <tr>\n",
       "      <th>3</th>\n",
       "      <td>3</td>\n",
       "      <td>1</td>\n",
       "      <td>session_T</td>\n",
       "      <td>run_3</td>\n",
       "    </tr>\n",
       "    <tr>\n",
       "      <th>4</th>\n",
       "      <td>4</td>\n",
       "      <td>1</td>\n",
       "      <td>session_T</td>\n",
       "      <td>run_3</td>\n",
       "    </tr>\n",
       "  </tbody>\n",
       "</table>\n",
       "</div>"
      ],
      "text/plain": [
       "   Unnamed: 0  subject    session    run\n",
       "0           0        1  session_T  run_3\n",
       "1           1        1  session_T  run_3\n",
       "2           2        1  session_T  run_3\n",
       "3           3        1  session_T  run_3\n",
       "4           4        1  session_T  run_3"
      ]
     },
     "execution_count": 6,
     "metadata": {
      "tags": []
     },
     "output_type": "execute_result"
    }
   ],
   "source": [
    "X = np.load(\"/content/drive/My Drive/data/Graz/X_EEG.npy\")\n",
    "y = np.load(\"/content/drive/My Drive/data/Graz/y_EEG.npy\")\n",
    "metadata = pd.read_csv(\"/content/drive/My Drive/data/Graz/metadata_EEG.csv\")\n",
    "metadata.head()"
   ]
  },
  {
   "cell_type": "code",
   "execution_count": null,
   "metadata": {
    "colab": {},
    "colab_type": "code",
    "id": "2uHq2ndO9-P7"
   },
   "outputs": [],
   "source": []
  },
  {
   "cell_type": "code",
   "execution_count": null,
   "metadata": {
    "colab": {},
    "colab_type": "code",
    "id": "-Ej8eshE9-P9"
   },
   "outputs": [],
   "source": [
    "subj = 1\n",
    "X_train = X[(metadata[\"subject\"]==subj) & (metadata[\"session\"]==\"session_T\")]\n",
    "y_train = y[(metadata[\"subject\"]==subj) & (metadata[\"session\"]==\"session_T\")]\n",
    "\n",
    "X_test = X[(metadata[\"subject\"]==subj) & (metadata[\"session\"]==\"session_E\")]\n",
    "y_test = y[(metadata[\"subject\"]==subj) & (metadata[\"session\"]==\"session_E\")]"
   ]
  },
  {
   "cell_type": "code",
   "execution_count": null,
   "metadata": {
    "colab": {},
    "colab_type": "code",
    "id": "dCfJba-I9-P_",
    "outputId": "5840a862-ac98-408d-f361-930222f319a1"
   },
   "outputs": [
    {
     "name": "stdout",
     "output_type": "stream",
     "text": [
      "Computing data rank from raw with rank=None\n"
     ]
    },
    {
     "name": "stderr",
     "output_type": "stream",
     "text": [
      "C:\\Users\\Robotica_2\\AppData\\Local\\Continuum\\anaconda3\\envs\\bcis\\lib\\site-packages\\sklearn\\model_selection\\_search.py:814: DeprecationWarning: The default of the `iid` parameter will change from True to False in version 0.22 and will be removed in 0.24. This will change numeric results when test-set sizes are unequal.\n",
      "  DeprecationWarning)\n"
     ]
    },
    {
     "name": "stdout",
     "output_type": "stream",
     "text": [
      "    Using tolerance 27 (2.2e-16 eps * 22 dim * 5.6e+15  max singular value)\n",
      "    Estimated rank (mag): 22\n",
      "    MAG: rank 22 computed from 22 data channels with 0 projectors\n",
      "Reducing data rank from 22 -> 22\n",
      "Estimating covariance using EMPIRICAL\n",
      "Done.\n",
      "Computing data rank from raw with rank=None\n",
      "    Using tolerance 26 (2.2e-16 eps * 22 dim * 5.4e+15  max singular value)\n",
      "    Estimated rank (mag): 22\n",
      "    MAG: rank 22 computed from 22 data channels with 0 projectors\n",
      "Reducing data rank from 22 -> 22\n",
      "Estimating covariance using EMPIRICAL\n",
      "Done.\n",
      "Computing data rank from raw with rank=None\n",
      "    Using tolerance 26 (2.2e-16 eps * 22 dim * 5.3e+15  max singular value)\n",
      "    Estimated rank (mag): 22\n",
      "    MAG: rank 22 computed from 22 data channels with 0 projectors\n",
      "Reducing data rank from 22 -> 22\n",
      "Estimating covariance using EMPIRICAL\n",
      "Done.\n",
      "Computing data rank from raw with rank=None\n",
      "    Using tolerance 28 (2.2e-16 eps * 22 dim * 5.7e+15  max singular value)\n",
      "    Estimated rank (mag): 22\n",
      "    MAG: rank 22 computed from 22 data channels with 0 projectors\n",
      "Reducing data rank from 22 -> 22\n",
      "Estimating covariance using EMPIRICAL\n",
      "Done.\n"
     ]
    },
    {
     "data": {
      "text/plain": [
       "GridSearchCV(cv=5, error_score='raise-deprecating',\n",
       "             estimator=Pipeline(memory=None,\n",
       "                                steps=[('csp',\n",
       "                                        CSP(cov_est='concat', cov_method_params=None, log=None, n_components=4,\n",
       "  norm_trace=False, rank=None, reg=None, transform_into='average_power')),\n",
       "                                       ('classify',\n",
       "                                        LinearDiscriminantAnalysis(n_components=None,\n",
       "                                                                   priors=None,\n",
       "                                                                   shrinkage=None,\n",
       "                                                                   solver='eigen',\n",
       "                                                                   store_covariance=False,\n",
       "                                                                   tol=0.0001))],\n",
       "                                verbose=False),\n",
       "             iid='warn', n_jobs=8,\n",
       "             param_grid=[{'classify__shrinkage': ['auto', 0.1, 0.01, 0.001],\n",
       "                          'csp__n_components': [4, 5, 6, 7, 8]}],\n",
       "             pre_dispatch='2*n_jobs', refit=True, return_train_score=False,\n",
       "             scoring=None, verbose=0)"
      ]
     },
     "execution_count": 35,
     "metadata": {
      "tags": []
     },
     "output_type": "execute_result"
    }
   ],
   "source": [
    "\n",
    "# Definir el pipeline y los parámetros para el GridSearch\n",
    "pipe = Pipeline([('csp', CSP()),('classify', LDA(solver=\"eigen\"))])\n",
    "param_grid = [{'csp__n_components': [4, 5, 6, 7, 8],\n",
    "                 'classify__shrinkage': [\"auto\", 0.1, 0.01, 0.001]}] \n",
    "\n",
    "# Grid Search con cross-validation\n",
    "gs = GridSearchCV(pipe,\n",
    "                  param_grid=param_grid,\n",
    "                  cv=5,\n",
    "                  n_jobs=8)\n",
    "\n",
    "gs.fit(X_train, y_train)"
   ]
  },
  {
   "cell_type": "code",
   "execution_count": null,
   "metadata": {
    "colab": {},
    "colab_type": "code",
    "id": "u1vuD-BD9-QB",
    "outputId": "50088719-48a6-43fc-8b9a-967197432145"
   },
   "outputs": [
    {
     "name": "stdout",
     "output_type": "stream",
     "text": [
      "{'classify__shrinkage': 'auto', 'csp__n_components': 5}\n",
      "              precision    recall  f1-score   support\n",
      "\n",
      "        feet       0.07      0.03      0.04        72\n",
      "   left_hand       0.00      0.00      0.00        72\n",
      "  right_hand       0.00      0.00      0.00        72\n",
      "      tongue       0.28      1.00      0.44        72\n",
      "\n",
      "    accuracy                           0.26       288\n",
      "   macro avg       0.09      0.26      0.12       288\n",
      "weighted avg       0.09      0.26      0.12       288\n",
      "\n"
     ]
    },
    {
     "name": "stderr",
     "output_type": "stream",
     "text": [
      "C:\\Users\\Robotica_2\\AppData\\Local\\Continuum\\anaconda3\\envs\\bcis\\lib\\site-packages\\sklearn\\metrics\\classification.py:1437: UndefinedMetricWarning: Precision and F-score are ill-defined and being set to 0.0 in labels with no predicted samples.\n",
      "  'precision', 'predicted', average, warn_for)\n"
     ]
    }
   ],
   "source": [
    "from sklearn.metrics import classification_report\n",
    "\n",
    "# Imprimir los mejores parámetros encontrados\n",
    "print(gs.best_params_)\n",
    "\n",
    "# Obtener la predicción con el mejor modelo\n",
    "y_hat = gs.predict(X_test)\n",
    "print(classification_report(y_test, y_hat))"
   ]
  },
  {
   "cell_type": "code",
   "execution_count": 10,
   "metadata": {
    "colab": {
     "base_uri": "https://localhost:8080/",
     "height": 1000
    },
    "colab_type": "code",
    "executionInfo": {
     "elapsed": 13859,
     "status": "ok",
     "timestamp": 1574658889211,
     "user": {
      "displayName": "Carlos Emiliano Solorzano",
      "photoUrl": "https://lh3.googleusercontent.com/a-/AAuE7mAI0xsA-94mmMCv6P3qVs_r9N2cUt7wGRxyCP83c-M=s64",
      "userId": "18444532791108978567"
     },
     "user_tz": 360
    },
    "id": "IUgRf9ak9-QD",
    "outputId": "a653df6f-7952-40d1-fc52-3d6ecf4d7c8e"
   },
   "outputs": [
    {
     "name": "stdout",
     "output_type": "stream",
     "text": [
      "1\n",
      "Computing data rank from raw with rank=None\n",
      "    Using tolerance 27 (2.2e-16 eps * 22 dim * 5.5e+15  max singular value)\n",
      "    Estimated rank (mag): 22\n",
      "    MAG: rank 22 computed from 22 data channels with 0 projectors\n",
      "Reducing data rank from 22 -> 22\n",
      "Estimating covariance using EMPIRICAL\n",
      "Done.\n",
      "Computing data rank from raw with rank=None\n",
      "    Using tolerance 26 (2.2e-16 eps * 22 dim * 5.3e+15  max singular value)\n",
      "    Estimated rank (mag): 22\n",
      "    MAG: rank 22 computed from 22 data channels with 0 projectors\n",
      "Reducing data rank from 22 -> 22\n",
      "Estimating covariance using EMPIRICAL\n",
      "Done.\n",
      "Computing data rank from raw with rank=None\n",
      "    Using tolerance 26 (2.2e-16 eps * 22 dim * 5.2e+15  max singular value)\n",
      "    Estimated rank (mag): 22\n",
      "    MAG: rank 22 computed from 22 data channels with 0 projectors\n",
      "Reducing data rank from 22 -> 22\n",
      "Estimating covariance using EMPIRICAL\n",
      "Done.\n",
      "Computing data rank from raw with rank=None\n",
      "    Using tolerance 27 (2.2e-16 eps * 22 dim * 5.6e+15  max singular value)\n",
      "    Estimated rank (mag): 22\n",
      "    MAG: rank 22 computed from 22 data channels with 0 projectors\n",
      "Reducing data rank from 22 -> 22\n",
      "Estimating covariance using EMPIRICAL\n",
      "Done.\n",
      "2\n",
      "Computing data rank from raw with rank=None\n",
      "    Using tolerance 29 (2.2e-16 eps * 22 dim * 6e+15  max singular value)\n",
      "    Estimated rank (mag): 22\n",
      "    MAG: rank 22 computed from 22 data channels with 0 projectors\n",
      "Reducing data rank from 22 -> 22\n",
      "Estimating covariance using EMPIRICAL\n",
      "Done.\n",
      "Computing data rank from raw with rank=None\n",
      "    Using tolerance 30 (2.2e-16 eps * 22 dim * 6e+15  max singular value)\n",
      "    Estimated rank (mag): 22\n",
      "    MAG: rank 22 computed from 22 data channels with 0 projectors\n",
      "Reducing data rank from 22 -> 22\n",
      "Estimating covariance using EMPIRICAL\n",
      "Done.\n",
      "Computing data rank from raw with rank=None\n",
      "    Using tolerance 29 (2.2e-16 eps * 22 dim * 5.9e+15  max singular value)\n",
      "    Estimated rank (mag): 22\n",
      "    MAG: rank 22 computed from 22 data channels with 0 projectors\n",
      "Reducing data rank from 22 -> 22\n",
      "Estimating covariance using EMPIRICAL\n",
      "Done.\n",
      "Computing data rank from raw with rank=None\n",
      "    Using tolerance 29 (2.2e-16 eps * 22 dim * 6e+15  max singular value)\n",
      "    Estimated rank (mag): 22\n",
      "    MAG: rank 22 computed from 22 data channels with 0 projectors\n",
      "Reducing data rank from 22 -> 22\n",
      "Estimating covariance using EMPIRICAL\n",
      "Done.\n",
      "3\n",
      "Computing data rank from raw with rank=None\n",
      "    Using tolerance 40 (2.2e-16 eps * 22 dim * 8.3e+15  max singular value)\n",
      "    Estimated rank (mag): 22\n",
      "    MAG: rank 22 computed from 22 data channels with 0 projectors\n",
      "Reducing data rank from 22 -> 22\n",
      "Estimating covariance using EMPIRICAL\n",
      "Done.\n",
      "Computing data rank from raw with rank=None\n",
      "    Using tolerance 36 (2.2e-16 eps * 22 dim * 7.3e+15  max singular value)\n",
      "    Estimated rank (mag): 22\n",
      "    MAG: rank 22 computed from 22 data channels with 0 projectors\n",
      "Reducing data rank from 22 -> 22\n",
      "Estimating covariance using EMPIRICAL\n",
      "Done.\n",
      "Computing data rank from raw with rank=None\n",
      "    Using tolerance 37 (2.2e-16 eps * 22 dim * 7.5e+15  max singular value)\n",
      "    Estimated rank (mag): 22\n",
      "    MAG: rank 22 computed from 22 data channels with 0 projectors\n",
      "Reducing data rank from 22 -> 22\n",
      "Estimating covariance using EMPIRICAL\n",
      "Done.\n",
      "Computing data rank from raw with rank=None\n",
      "    Using tolerance 42 (2.2e-16 eps * 22 dim * 8.7e+15  max singular value)\n",
      "    Estimated rank (mag): 22\n",
      "    MAG: rank 22 computed from 22 data channels with 0 projectors\n",
      "Reducing data rank from 22 -> 22\n",
      "Estimating covariance using EMPIRICAL\n",
      "Done.\n",
      "4\n",
      "Computing data rank from raw with rank=None\n",
      "    Using tolerance 25 (2.2e-16 eps * 22 dim * 5.2e+15  max singular value)\n",
      "    Estimated rank (mag): 22\n",
      "    MAG: rank 22 computed from 22 data channels with 0 projectors\n",
      "Reducing data rank from 22 -> 22\n",
      "Estimating covariance using EMPIRICAL\n",
      "Done.\n",
      "Computing data rank from raw with rank=None\n",
      "    Using tolerance 24 (2.2e-16 eps * 22 dim * 4.8e+15  max singular value)\n",
      "    Estimated rank (mag): 22\n",
      "    MAG: rank 22 computed from 22 data channels with 0 projectors\n",
      "Reducing data rank from 22 -> 22\n",
      "Estimating covariance using EMPIRICAL\n",
      "Done.\n",
      "Computing data rank from raw with rank=None\n",
      "    Using tolerance 24 (2.2e-16 eps * 22 dim * 5e+15  max singular value)\n",
      "    Estimated rank (mag): 22\n",
      "    MAG: rank 22 computed from 22 data channels with 0 projectors\n",
      "Reducing data rank from 22 -> 22\n",
      "Estimating covariance using EMPIRICAL\n",
      "Done.\n",
      "Computing data rank from raw with rank=None\n",
      "    Using tolerance 26 (2.2e-16 eps * 22 dim * 5.2e+15  max singular value)\n",
      "    Estimated rank (mag): 22\n",
      "    MAG: rank 22 computed from 22 data channels with 0 projectors\n",
      "Reducing data rank from 22 -> 22\n",
      "Estimating covariance using EMPIRICAL\n",
      "Done.\n",
      "5\n",
      "Computing data rank from raw with rank=None\n",
      "    Using tolerance 21 (2.2e-16 eps * 22 dim * 4.3e+15  max singular value)\n",
      "    Estimated rank (mag): 22\n",
      "    MAG: rank 22 computed from 22 data channels with 0 projectors\n",
      "Reducing data rank from 22 -> 22\n",
      "Estimating covariance using EMPIRICAL\n",
      "Done.\n",
      "Computing data rank from raw with rank=None\n",
      "    Using tolerance 21 (2.2e-16 eps * 22 dim * 4.4e+15  max singular value)\n",
      "    Estimated rank (mag): 22\n",
      "    MAG: rank 22 computed from 22 data channels with 0 projectors\n",
      "Reducing data rank from 22 -> 22\n",
      "Estimating covariance using EMPIRICAL\n",
      "Done.\n",
      "Computing data rank from raw with rank=None\n",
      "    Using tolerance 21 (2.2e-16 eps * 22 dim * 4.4e+15  max singular value)\n",
      "    Estimated rank (mag): 22\n",
      "    MAG: rank 22 computed from 22 data channels with 0 projectors\n",
      "Reducing data rank from 22 -> 22\n",
      "Estimating covariance using EMPIRICAL\n",
      "Done.\n",
      "Computing data rank from raw with rank=None\n",
      "    Using tolerance 21 (2.2e-16 eps * 22 dim * 4.3e+15  max singular value)\n",
      "    Estimated rank (mag): 22\n",
      "    MAG: rank 22 computed from 22 data channels with 0 projectors\n",
      "Reducing data rank from 22 -> 22\n",
      "Estimating covariance using EMPIRICAL\n",
      "Done.\n",
      "6\n",
      "Computing data rank from raw with rank=None\n",
      "    Using tolerance 35 (2.2e-16 eps * 22 dim * 7.2e+15  max singular value)\n",
      "    Estimated rank (mag): 22\n",
      "    MAG: rank 22 computed from 22 data channels with 0 projectors\n",
      "Reducing data rank from 22 -> 22\n",
      "Estimating covariance using EMPIRICAL\n",
      "Done.\n",
      "Computing data rank from raw with rank=None\n",
      "    Using tolerance 33 (2.2e-16 eps * 22 dim * 6.8e+15  max singular value)\n",
      "    Estimated rank (mag): 22\n",
      "    MAG: rank 22 computed from 22 data channels with 0 projectors\n",
      "Reducing data rank from 22 -> 22\n",
      "Estimating covariance using EMPIRICAL\n",
      "Done.\n",
      "Computing data rank from raw with rank=None\n",
      "    Using tolerance 33 (2.2e-16 eps * 22 dim * 6.8e+15  max singular value)\n",
      "    Estimated rank (mag): 22\n",
      "    MAG: rank 22 computed from 22 data channels with 0 projectors\n",
      "Reducing data rank from 22 -> 22\n",
      "Estimating covariance using EMPIRICAL\n",
      "Done.\n",
      "Computing data rank from raw with rank=None\n",
      "    Using tolerance 36 (2.2e-16 eps * 22 dim * 7.3e+15  max singular value)\n",
      "    Estimated rank (mag): 22\n",
      "    MAG: rank 22 computed from 22 data channels with 0 projectors\n",
      "Reducing data rank from 22 -> 22\n",
      "Estimating covariance using EMPIRICAL\n",
      "Done.\n",
      "7\n",
      "Computing data rank from raw with rank=None\n",
      "    Using tolerance 23 (2.2e-16 eps * 22 dim * 4.7e+15  max singular value)\n",
      "    Estimated rank (mag): 22\n",
      "    MAG: rank 22 computed from 22 data channels with 0 projectors\n",
      "Reducing data rank from 22 -> 22\n",
      "Estimating covariance using EMPIRICAL\n",
      "Done.\n",
      "Computing data rank from raw with rank=None\n",
      "    Using tolerance 23 (2.2e-16 eps * 22 dim * 4.7e+15  max singular value)\n",
      "    Estimated rank (mag): 22\n",
      "    MAG: rank 22 computed from 22 data channels with 0 projectors\n",
      "Reducing data rank from 22 -> 22\n",
      "Estimating covariance using EMPIRICAL\n",
      "Done.\n",
      "Computing data rank from raw with rank=None\n",
      "    Using tolerance 23 (2.2e-16 eps * 22 dim * 4.8e+15  max singular value)\n",
      "    Estimated rank (mag): 22\n",
      "    MAG: rank 22 computed from 22 data channels with 0 projectors\n",
      "Reducing data rank from 22 -> 22\n",
      "Estimating covariance using EMPIRICAL\n",
      "Done.\n",
      "Computing data rank from raw with rank=None\n",
      "    Using tolerance 25 (2.2e-16 eps * 22 dim * 5.1e+15  max singular value)\n",
      "    Estimated rank (mag): 22\n",
      "    MAG: rank 22 computed from 22 data channels with 0 projectors\n",
      "Reducing data rank from 22 -> 22\n",
      "Estimating covariance using EMPIRICAL\n",
      "Done.\n",
      "8\n",
      "Computing data rank from raw with rank=None\n",
      "    Using tolerance 46 (2.2e-16 eps * 22 dim * 9.3e+15  max singular value)\n",
      "    Estimated rank (mag): 22\n",
      "    MAG: rank 22 computed from 22 data channels with 0 projectors\n",
      "Reducing data rank from 22 -> 22\n",
      "Estimating covariance using EMPIRICAL\n",
      "Done.\n",
      "Computing data rank from raw with rank=None\n",
      "    Using tolerance 48 (2.2e-16 eps * 22 dim * 9.9e+15  max singular value)\n",
      "    Estimated rank (mag): 22\n",
      "    MAG: rank 22 computed from 22 data channels with 0 projectors\n",
      "Reducing data rank from 22 -> 22\n",
      "Estimating covariance using EMPIRICAL\n",
      "Done.\n",
      "Computing data rank from raw with rank=None\n",
      "    Using tolerance 47 (2.2e-16 eps * 22 dim * 9.6e+15  max singular value)\n",
      "    Estimated rank (mag): 22\n",
      "    MAG: rank 22 computed from 22 data channels with 0 projectors\n",
      "Reducing data rank from 22 -> 22\n",
      "Estimating covariance using EMPIRICAL\n",
      "Done.\n",
      "Computing data rank from raw with rank=None\n",
      "    Using tolerance 52 (2.2e-16 eps * 22 dim * 1.1e+16  max singular value)\n",
      "    Estimated rank (mag): 22\n",
      "    MAG: rank 22 computed from 22 data channels with 0 projectors\n",
      "Reducing data rank from 22 -> 22\n",
      "Estimating covariance using EMPIRICAL\n",
      "Done.\n",
      "9\n",
      "Computing data rank from raw with rank=None\n",
      "    Using tolerance 44 (2.2e-16 eps * 22 dim * 9.1e+15  max singular value)\n",
      "    Estimated rank (mag): 22\n",
      "    MAG: rank 22 computed from 22 data channels with 0 projectors\n",
      "Reducing data rank from 22 -> 22\n",
      "Estimating covariance using EMPIRICAL\n",
      "Done.\n",
      "Computing data rank from raw with rank=None\n",
      "    Using tolerance 44 (2.2e-16 eps * 22 dim * 9e+15  max singular value)\n",
      "    Estimated rank (mag): 22\n",
      "    MAG: rank 22 computed from 22 data channels with 0 projectors\n",
      "Reducing data rank from 22 -> 22\n",
      "Estimating covariance using EMPIRICAL\n",
      "Done.\n",
      "Computing data rank from raw with rank=None\n",
      "    Using tolerance 42 (2.2e-16 eps * 22 dim * 8.6e+15  max singular value)\n",
      "    Estimated rank (mag): 22\n",
      "    MAG: rank 22 computed from 22 data channels with 0 projectors\n",
      "Reducing data rank from 22 -> 22\n",
      "Estimating covariance using EMPIRICAL\n",
      "Done.\n",
      "Computing data rank from raw with rank=None\n",
      "    Using tolerance 50 (2.2e-16 eps * 22 dim * 1e+16  max singular value)\n",
      "    Estimated rank (mag): 22\n",
      "    MAG: rank 22 computed from 22 data channels with 0 projectors\n",
      "Reducing data rank from 22 -> 22\n",
      "Estimating covariance using EMPIRICAL\n",
      "Done.\n"
     ]
    }
   ],
   "source": [
    "from sklearn.metrics import f1_score, cohen_kappa_score\n",
    "\n",
    "# Para cada paciente\n",
    "subjects = [1, 2, 3, 4, 5, 6, 7, 8, 9]\n",
    "\n",
    "accuracies = []\n",
    "f1_scores = []\n",
    "kappas = []\n",
    "\n",
    "for subj in subjects:\n",
    "    \n",
    "    X_train = X[(metadata[\"subject\"]==subj) & (metadata[\"session\"]==\"session_T\")]\n",
    "    y_train = y[(metadata[\"subject\"]==subj) & (metadata[\"session\"]==\"session_T\")]\n",
    "    X_test = X[(metadata[\"subject\"]==subj) & (metadata[\"session\"]==\"session_E\")]\n",
    "    y_test = y[(metadata[\"subject\"]==subj) & (metadata[\"session\"]==\"session_E\")]\n",
    "    \n",
    "    print(subj)\n",
    "    pipe_final = Pipeline([('csp', CSP(n_components=5)),\n",
    "                           ('classify', LDA(solver=\"eigen\", shrinkage=\"auto\"))])\n",
    "    pipe_final.fit(X_train, y_train)\n",
    "    \n",
    "    # Estimación del dataset de prueba\n",
    "    y_hat = pipe_final.predict(X_test)\n",
    "    \n",
    "    # resultados a guardar\n",
    "    accuracies.append(np.mean(y_hat==y_test))\n",
    "    f1_scores.append(f1_score(y_test, y_hat, average=\"macro\"))\n",
    "    kappas.append(cohen_kappa_score(y_test, y_hat))\n",
    "    \n"
   ]
  },
  {
   "cell_type": "code",
   "execution_count": 12,
   "metadata": {
    "colab": {
     "base_uri": "https://localhost:8080/",
     "height": 778
    },
    "colab_type": "code",
    "executionInfo": {
     "elapsed": 693,
     "status": "ok",
     "timestamp": 1574658899991,
     "user": {
      "displayName": "Carlos Emiliano Solorzano",
      "photoUrl": "https://lh3.googleusercontent.com/a-/AAuE7mAI0xsA-94mmMCv6P3qVs_r9N2cUt7wGRxyCP83c-M=s64",
      "userId": "18444532791108978567"
     },
     "user_tz": 360
    },
    "id": "R9vwszAA9-QE",
    "outputId": "28425a4b-36f8-48e9-94c5-8938ee585716"
   },
   "outputs": [
    {
     "data": {
      "text/plain": [
       "<BarContainer object of 9 artists>"
      ]
     },
     "execution_count": 12,
     "metadata": {
      "tags": []
     },
     "output_type": "execute_result"
    },
    {
     "data": {
      "image/png": "[encoded data removed]",
      "text/plain": [
       "<Figure size 432x288 with 1 Axes>"
      ]
     },
     "metadata": {
      "tags": []
     },
     "output_type": "display_data"
    },
    {
     "data": {
      "image/png": "[encoded data removed]",
      "text/plain": [
       "<Figure size 432x288 with 1 Axes>"
      ]
     },
     "metadata": {
      "tags": []
     },
     "output_type": "display_data"
    },
    {
     "data": {
      "image/png": "[encoded data removed]",
      "text/plain": [
       "<Figure size 432x288 with 1 Axes>"
      ]
     },
     "metadata": {
      "tags": []
     },
     "output_type": "display_data"
    }
   ],
   "source": [
    "import matplotlib.pyplot as plt\n",
    "\n",
    "plt.figure()\n",
    "plt.bar(subjects, accuracies)\n",
    "\n",
    "plt.figure()\n",
    "plt.bar(subjects, f1_scores)\n",
    "\n",
    "plt.figure()\n",
    "plt.bar(subjects, kappas)"
   ]
  },
  {
   "cell_type": "code",
   "execution_count": null,
   "metadata": {
    "colab": {},
    "colab_type": "code",
    "id": "neicsc7Z9-QG"
   },
   "outputs": [],
   "source": [
    "#import pandas as pd\n",
    "\n",
    "#pd.DataFrame({'Exactitud': accuracies,\n",
    "#              'f1(macro)': f1_scores,\n",
    "#              'Kappa': kappas}).transpose().to_csv(\"Resultados/LDA.csv\")"
   ]
  },
  {
   "cell_type": "code",
   "execution_count": 13,
   "metadata": {
    "colab": {
     "base_uri": "https://localhost:8080/",
     "height": 34
    },
    "colab_type": "code",
    "executionInfo": {
     "elapsed": 187,
     "status": "ok",
     "timestamp": 1574658910855,
     "user": {
      "displayName": "Carlos Emiliano Solorzano",
      "photoUrl": "https://lh3.googleusercontent.com/a-/AAuE7mAI0xsA-94mmMCv6P3qVs_r9N2cUt7wGRxyCP83c-M=s64",
      "userId": "18444532791108978567"
     },
     "user_tz": 360
    },
    "id": "4SrQ_EOd9-QI",
    "outputId": "4e73a28a-0f8b-43b7-a743-992933f57fa4"
   },
   "outputs": [
    {
     "data": {
      "text/plain": [
       "array([0.722, 0.521, 0.719, 0.615, 0.271, 0.476, 0.566, 0.736, 0.663])"
      ]
     },
     "execution_count": 13,
     "metadata": {
      "tags": []
     },
     "output_type": "execute_result"
    }
   ],
   "source": [
    "np.round(np.array(accuracies), 3)"
   ]
  },
  {
   "cell_type": "code",
   "execution_count": 14,
   "metadata": {
    "colab": {
     "base_uri": "https://localhost:8080/",
     "height": 34
    },
    "colab_type": "code",
    "executionInfo": {
     "elapsed": 223,
     "status": "ok",
     "timestamp": 1574658930802,
     "user": {
      "displayName": "Carlos Emiliano Solorzano",
      "photoUrl": "https://lh3.googleusercontent.com/a-/AAuE7mAI0xsA-94mmMCv6P3qVs_r9N2cUt7wGRxyCP83c-M=s64",
      "userId": "18444532791108978567"
     },
     "user_tz": 360
    },
    "id": "juwKanpV9-QJ",
    "outputId": "eba98fef-680d-42f4-f3c7-b7fbb46a7847"
   },
   "outputs": [
    {
     "data": {
      "text/plain": [
       "0.5875771604938271"
      ]
     },
     "execution_count": 14,
     "metadata": {
      "tags": []
     },
     "output_type": "execute_result"
    }
   ],
   "source": [
    "np.mean(accuracies)"
   ]
  },
  {
   "cell_type": "code",
   "execution_count": 27,
   "metadata": {
    "colab": {
     "base_uri": "https://localhost:8080/",
     "height": 1000
    },
    "colab_type": "code",
    "executionInfo": {
     "elapsed": 38950,
     "status": "ok",
     "timestamp": 1574665529884,
     "user": {
      "displayName": "Carlos Emiliano Solorzano",
      "photoUrl": "https://lh3.googleusercontent.com/a-/AAuE7mAI0xsA-94mmMCv6P3qVs_r9N2cUt7wGRxyCP83c-M=s64",
      "userId": "18444532791108978567"
     },
     "user_tz": 360
    },
    "id": "Z9KseQsx9-QL",
    "outputId": "3c8bb074-a6b2-4f13-9c55-6d02fa672e93"
   },
   "outputs": [
    {
     "name": "stdout",
     "output_type": "stream",
     "text": [
      "1\n",
      "Computing data rank from raw with rank=None\n",
      "    Using tolerance 38 (2.2e-16 eps * 22 dim * 7.8e+15  max singular value)\n",
      "    Estimated rank (mag): 22\n",
      "    MAG: rank 22 computed from 22 data channels with 0 projectors\n",
      "Reducing data rank from 22 -> 22\n",
      "Estimating covariance using EMPIRICAL\n",
      "Done.\n",
      "Computing data rank from raw with rank=None\n",
      "    Using tolerance 37 (2.2e-16 eps * 22 dim * 7.5e+15  max singular value)\n",
      "    Estimated rank (mag): 22\n",
      "    MAG: rank 22 computed from 22 data channels with 0 projectors\n",
      "Reducing data rank from 22 -> 22\n",
      "Estimating covariance using EMPIRICAL\n",
      "Done.\n",
      "Computing data rank from raw with rank=None\n",
      "    Using tolerance 36 (2.2e-16 eps * 22 dim * 7.5e+15  max singular value)\n",
      "    Estimated rank (mag): 22\n",
      "    MAG: rank 22 computed from 22 data channels with 0 projectors\n",
      "Reducing data rank from 22 -> 22\n",
      "Estimating covariance using EMPIRICAL\n",
      "Done.\n",
      "Computing data rank from raw with rank=None\n",
      "    Using tolerance 39 (2.2e-16 eps * 22 dim * 8e+15  max singular value)\n",
      "    Estimated rank (mag): 22\n",
      "    MAG: rank 22 computed from 22 data channels with 0 projectors\n",
      "Reducing data rank from 22 -> 22\n",
      "Estimating covariance using EMPIRICAL\n",
      "Done.\n"
     ]
    },
    {
     "name": "stderr",
     "output_type": "stream",
     "text": [
      "/usr/local/lib/python3.6/dist-packages/sklearn/neural_network/multilayer_perceptron.py:566: ConvergenceWarning: Stochastic Optimizer: Maximum iterations (200) reached and the optimization hasn't converged yet.\n",
      "  % self.max_iter, ConvergenceWarning)\n"
     ]
    },
    {
     "name": "stdout",
     "output_type": "stream",
     "text": [
      "2\n",
      "Computing data rank from raw with rank=None\n",
      "    Using tolerance 55 (2.2e-16 eps * 22 dim * 1.1e+16  max singular value)\n",
      "    Estimated rank (mag): 22\n",
      "    MAG: rank 22 computed from 22 data channels with 0 projectors\n",
      "Reducing data rank from 22 -> 22\n",
      "Estimating covariance using EMPIRICAL\n",
      "Done.\n",
      "Computing data rank from raw with rank=None\n",
      "    Using tolerance 60 (2.2e-16 eps * 22 dim * 1.2e+16  max singular value)\n",
      "    Estimated rank (mag): 22\n",
      "    MAG: rank 22 computed from 22 data channels with 0 projectors\n",
      "Reducing data rank from 22 -> 22\n",
      "Estimating covariance using EMPIRICAL\n",
      "Done.\n",
      "Computing data rank from raw with rank=None\n",
      "    Using tolerance 54 (2.2e-16 eps * 22 dim * 1.1e+16  max singular value)\n",
      "    Estimated rank (mag): 22\n",
      "    MAG: rank 22 computed from 22 data channels with 0 projectors\n",
      "Reducing data rank from 22 -> 22\n",
      "Estimating covariance using EMPIRICAL\n",
      "Done.\n",
      "Computing data rank from raw with rank=None\n",
      "    Using tolerance 53 (2.2e-16 eps * 22 dim * 1.1e+16  max singular value)\n",
      "    Estimated rank (mag): 22\n",
      "    MAG: rank 22 computed from 22 data channels with 0 projectors\n",
      "Reducing data rank from 22 -> 22\n",
      "Estimating covariance using EMPIRICAL\n",
      "Done.\n"
     ]
    },
    {
     "name": "stderr",
     "output_type": "stream",
     "text": [
      "/usr/local/lib/python3.6/dist-packages/sklearn/neural_network/multilayer_perceptron.py:566: ConvergenceWarning: Stochastic Optimizer: Maximum iterations (200) reached and the optimization hasn't converged yet.\n",
      "  % self.max_iter, ConvergenceWarning)\n"
     ]
    },
    {
     "name": "stdout",
     "output_type": "stream",
     "text": [
      "3\n",
      "Computing data rank from raw with rank=None\n",
      "    Using tolerance 55 (2.2e-16 eps * 22 dim * 1.1e+16  max singular value)\n",
      "    Estimated rank (mag): 22\n",
      "    MAG: rank 22 computed from 22 data channels with 0 projectors\n",
      "Reducing data rank from 22 -> 22\n",
      "Estimating covariance using EMPIRICAL\n",
      "Done.\n",
      "Computing data rank from raw with rank=None\n",
      "    Using tolerance 49 (2.2e-16 eps * 22 dim * 1e+16  max singular value)\n",
      "    Estimated rank (mag): 22\n",
      "    MAG: rank 22 computed from 22 data channels with 0 projectors\n",
      "Reducing data rank from 22 -> 22\n",
      "Estimating covariance using EMPIRICAL\n",
      "Done.\n",
      "Computing data rank from raw with rank=None\n",
      "    Using tolerance 51 (2.2e-16 eps * 22 dim * 1e+16  max singular value)\n",
      "    Estimated rank (mag): 22\n",
      "    MAG: rank 22 computed from 22 data channels with 0 projectors\n",
      "Reducing data rank from 22 -> 22\n",
      "Estimating covariance using EMPIRICAL\n",
      "Done.\n",
      "Computing data rank from raw with rank=None\n",
      "    Using tolerance 59 (2.2e-16 eps * 22 dim * 1.2e+16  max singular value)\n",
      "    Estimated rank (mag): 22\n",
      "    MAG: rank 22 computed from 22 data channels with 0 projectors\n",
      "Reducing data rank from 22 -> 22\n",
      "Estimating covariance using EMPIRICAL\n",
      "Done.\n"
     ]
    },
    {
     "name": "stderr",
     "output_type": "stream",
     "text": [
      "/usr/local/lib/python3.6/dist-packages/sklearn/neural_network/multilayer_perceptron.py:566: ConvergenceWarning: Stochastic Optimizer: Maximum iterations (200) reached and the optimization hasn't converged yet.\n",
      "  % self.max_iter, ConvergenceWarning)\n"
     ]
    },
    {
     "name": "stdout",
     "output_type": "stream",
     "text": [
      "4\n",
      "Computing data rank from raw with rank=None\n",
      "    Using tolerance 37 (2.2e-16 eps * 22 dim * 7.6e+15  max singular value)\n",
      "    Estimated rank (mag): 22\n",
      "    MAG: rank 22 computed from 22 data channels with 0 projectors\n",
      "Reducing data rank from 22 -> 22\n",
      "Estimating covariance using EMPIRICAL\n",
      "Done.\n",
      "Computing data rank from raw with rank=None\n",
      "    Using tolerance 34 (2.2e-16 eps * 22 dim * 6.9e+15  max singular value)\n",
      "    Estimated rank (mag): 22\n",
      "    MAG: rank 22 computed from 22 data channels with 0 projectors\n",
      "Reducing data rank from 22 -> 22\n",
      "Estimating covariance using EMPIRICAL\n",
      "Done.\n",
      "Computing data rank from raw with rank=None\n",
      "    Using tolerance 34 (2.2e-16 eps * 22 dim * 7e+15  max singular value)\n",
      "    Estimated rank (mag): 22\n",
      "    MAG: rank 22 computed from 22 data channels with 0 projectors\n",
      "Reducing data rank from 22 -> 22\n",
      "Estimating covariance using EMPIRICAL\n",
      "Done.\n",
      "Computing data rank from raw with rank=None\n",
      "    Using tolerance 37 (2.2e-16 eps * 22 dim * 7.7e+15  max singular value)\n",
      "    Estimated rank (mag): 22\n",
      "    MAG: rank 22 computed from 22 data channels with 0 projectors\n",
      "Reducing data rank from 22 -> 22\n",
      "Estimating covariance using EMPIRICAL\n",
      "Done.\n"
     ]
    },
    {
     "name": "stderr",
     "output_type": "stream",
     "text": [
      "/usr/local/lib/python3.6/dist-packages/sklearn/neural_network/multilayer_perceptron.py:566: ConvergenceWarning: Stochastic Optimizer: Maximum iterations (200) reached and the optimization hasn't converged yet.\n",
      "  % self.max_iter, ConvergenceWarning)\n"
     ]
    },
    {
     "name": "stdout",
     "output_type": "stream",
     "text": [
      "5\n",
      "Computing data rank from raw with rank=None\n",
      "    Using tolerance 33 (2.2e-16 eps * 22 dim * 6.7e+15  max singular value)\n",
      "    Estimated rank (mag): 22\n",
      "    MAG: rank 22 computed from 22 data channels with 0 projectors\n",
      "Reducing data rank from 22 -> 22\n",
      "Estimating covariance using EMPIRICAL\n",
      "Done.\n",
      "Computing data rank from raw with rank=None\n",
      "    Using tolerance 33 (2.2e-16 eps * 22 dim * 6.8e+15  max singular value)\n",
      "    Estimated rank (mag): 22\n",
      "    MAG: rank 22 computed from 22 data channels with 0 projectors\n",
      "Reducing data rank from 22 -> 22\n",
      "Estimating covariance using EMPIRICAL\n",
      "Done.\n",
      "Computing data rank from raw with rank=None\n",
      "    Using tolerance 33 (2.2e-16 eps * 22 dim * 6.7e+15  max singular value)\n",
      "    Estimated rank (mag): 22\n",
      "    MAG: rank 22 computed from 22 data channels with 0 projectors\n",
      "Reducing data rank from 22 -> 22\n",
      "Estimating covariance using EMPIRICAL\n",
      "Done.\n",
      "Computing data rank from raw with rank=None\n",
      "    Using tolerance 33 (2.2e-16 eps * 22 dim * 6.7e+15  max singular value)\n",
      "    Estimated rank (mag): 22\n",
      "    MAG: rank 22 computed from 22 data channels with 0 projectors\n",
      "Reducing data rank from 22 -> 22\n",
      "Estimating covariance using EMPIRICAL\n",
      "Done.\n"
     ]
    },
    {
     "name": "stderr",
     "output_type": "stream",
     "text": [
      "/usr/local/lib/python3.6/dist-packages/sklearn/neural_network/multilayer_perceptron.py:566: ConvergenceWarning: Stochastic Optimizer: Maximum iterations (200) reached and the optimization hasn't converged yet.\n",
      "  % self.max_iter, ConvergenceWarning)\n"
     ]
    },
    {
     "name": "stdout",
     "output_type": "stream",
     "text": [
      "6\n",
      "Computing data rank from raw with rank=None\n",
      "    Using tolerance 50 (2.2e-16 eps * 22 dim * 1e+16  max singular value)\n",
      "    Estimated rank (mag): 22\n",
      "    MAG: rank 22 computed from 22 data channels with 0 projectors\n",
      "Reducing data rank from 22 -> 22\n",
      "Estimating covariance using EMPIRICAL\n",
      "Done.\n",
      "Computing data rank from raw with rank=None\n",
      "    Using tolerance 46 (2.2e-16 eps * 22 dim * 9.4e+15  max singular value)\n",
      "    Estimated rank (mag): 22\n",
      "    MAG: rank 22 computed from 22 data channels with 0 projectors\n",
      "Reducing data rank from 22 -> 22\n",
      "Estimating covariance using EMPIRICAL\n",
      "Done.\n",
      "Computing data rank from raw with rank=None\n",
      "    Using tolerance 47 (2.2e-16 eps * 22 dim * 9.6e+15  max singular value)\n",
      "    Estimated rank (mag): 22\n",
      "    MAG: rank 22 computed from 22 data channels with 0 projectors\n",
      "Reducing data rank from 22 -> 22\n",
      "Estimating covariance using EMPIRICAL\n",
      "Done.\n",
      "Computing data rank from raw with rank=None\n",
      "    Using tolerance 48 (2.2e-16 eps * 22 dim * 9.9e+15  max singular value)\n",
      "    Estimated rank (mag): 22\n",
      "    MAG: rank 22 computed from 22 data channels with 0 projectors\n",
      "Reducing data rank from 22 -> 22\n",
      "Estimating covariance using EMPIRICAL\n",
      "Done.\n"
     ]
    },
    {
     "name": "stderr",
     "output_type": "stream",
     "text": [
      "/usr/local/lib/python3.6/dist-packages/sklearn/neural_network/multilayer_perceptron.py:566: ConvergenceWarning: Stochastic Optimizer: Maximum iterations (200) reached and the optimization hasn't converged yet.\n",
      "  % self.max_iter, ConvergenceWarning)\n"
     ]
    },
    {
     "name": "stdout",
     "output_type": "stream",
     "text": [
      "7\n",
      "Computing data rank from raw with rank=None\n",
      "    Using tolerance 35 (2.2e-16 eps * 22 dim * 7.1e+15  max singular value)\n",
      "    Estimated rank (mag): 22\n",
      "    MAG: rank 22 computed from 22 data channels with 0 projectors\n",
      "Reducing data rank from 22 -> 22\n",
      "Estimating covariance using EMPIRICAL\n",
      "Done.\n",
      "Computing data rank from raw with rank=None\n",
      "    Using tolerance 34 (2.2e-16 eps * 22 dim * 7e+15  max singular value)\n",
      "    Estimated rank (mag): 22\n",
      "    MAG: rank 22 computed from 22 data channels with 0 projectors\n",
      "Reducing data rank from 22 -> 22\n",
      "Estimating covariance using EMPIRICAL\n",
      "Done.\n",
      "Computing data rank from raw with rank=None\n",
      "    Using tolerance 35 (2.2e-16 eps * 22 dim * 7.1e+15  max singular value)\n",
      "    Estimated rank (mag): 22\n",
      "    MAG: rank 22 computed from 22 data channels with 0 projectors\n",
      "Reducing data rank from 22 -> 22\n",
      "Estimating covariance using EMPIRICAL\n",
      "Done.\n",
      "Computing data rank from raw with rank=None\n",
      "    Using tolerance 38 (2.2e-16 eps * 22 dim * 7.7e+15  max singular value)\n",
      "    Estimated rank (mag): 22\n",
      "    MAG: rank 22 computed from 22 data channels with 0 projectors\n",
      "Reducing data rank from 22 -> 22\n",
      "Estimating covariance using EMPIRICAL\n",
      "Done.\n"
     ]
    },
    {
     "name": "stderr",
     "output_type": "stream",
     "text": [
      "/usr/local/lib/python3.6/dist-packages/sklearn/neural_network/multilayer_perceptron.py:566: ConvergenceWarning: Stochastic Optimizer: Maximum iterations (200) reached and the optimization hasn't converged yet.\n",
      "  % self.max_iter, ConvergenceWarning)\n"
     ]
    },
    {
     "name": "stdout",
     "output_type": "stream",
     "text": [
      "8\n",
      "Computing data rank from raw with rank=None\n",
      "    Using tolerance 63 (2.2e-16 eps * 22 dim * 1.3e+16  max singular value)\n",
      "    Estimated rank (mag): 22\n",
      "    MAG: rank 22 computed from 22 data channels with 0 projectors\n",
      "Reducing data rank from 22 -> 22\n",
      "Estimating covariance using EMPIRICAL\n",
      "Done.\n",
      "Computing data rank from raw with rank=None\n",
      "    Using tolerance 65 (2.2e-16 eps * 22 dim * 1.3e+16  max singular value)\n",
      "    Estimated rank (mag): 22\n",
      "    MAG: rank 22 computed from 22 data channels with 0 projectors\n",
      "Reducing data rank from 22 -> 22\n",
      "Estimating covariance using EMPIRICAL\n",
      "Done.\n",
      "Computing data rank from raw with rank=None\n",
      "    Using tolerance 65 (2.2e-16 eps * 22 dim * 1.3e+16  max singular value)\n",
      "    Estimated rank (mag): 22\n",
      "    MAG: rank 22 computed from 22 data channels with 0 projectors\n",
      "Reducing data rank from 22 -> 22\n",
      "Estimating covariance using EMPIRICAL\n",
      "Done.\n",
      "Computing data rank from raw with rank=None\n",
      "    Using tolerance 71 (2.2e-16 eps * 22 dim * 1.5e+16  max singular value)\n",
      "    Estimated rank (mag): 22\n",
      "    MAG: rank 22 computed from 22 data channels with 0 projectors\n",
      "Reducing data rank from 22 -> 22\n",
      "Estimating covariance using EMPIRICAL\n",
      "Done.\n"
     ]
    },
    {
     "name": "stderr",
     "output_type": "stream",
     "text": [
      "/usr/local/lib/python3.6/dist-packages/sklearn/neural_network/multilayer_perceptron.py:566: ConvergenceWarning: Stochastic Optimizer: Maximum iterations (200) reached and the optimization hasn't converged yet.\n",
      "  % self.max_iter, ConvergenceWarning)\n"
     ]
    },
    {
     "name": "stdout",
     "output_type": "stream",
     "text": [
      "9\n",
      "Computing data rank from raw with rank=None\n",
      "    Using tolerance 63 (2.2e-16 eps * 22 dim * 1.3e+16  max singular value)\n",
      "    Estimated rank (mag): 22\n",
      "    MAG: rank 22 computed from 22 data channels with 0 projectors\n",
      "Reducing data rank from 22 -> 22\n",
      "Estimating covariance using EMPIRICAL\n",
      "Done.\n",
      "Computing data rank from raw with rank=None\n",
      "    Using tolerance 59 (2.2e-16 eps * 22 dim * 1.2e+16  max singular value)\n",
      "    Estimated rank (mag): 22\n",
      "    MAG: rank 22 computed from 22 data channels with 0 projectors\n",
      "Reducing data rank from 22 -> 22\n",
      "Estimating covariance using EMPIRICAL\n",
      "Done.\n",
      "Computing data rank from raw with rank=None\n",
      "    Using tolerance 61 (2.2e-16 eps * 22 dim * 1.2e+16  max singular value)\n",
      "    Estimated rank (mag): 22\n",
      "    MAG: rank 22 computed from 22 data channels with 0 projectors\n",
      "Reducing data rank from 22 -> 22\n",
      "Estimating covariance using EMPIRICAL\n",
      "Done.\n",
      "Computing data rank from raw with rank=None\n",
      "    Using tolerance 72 (2.2e-16 eps * 22 dim * 1.5e+16  max singular value)\n",
      "    Estimated rank (mag): 22\n",
      "    MAG: rank 22 computed from 22 data channels with 0 projectors\n",
      "Reducing data rank from 22 -> 22\n",
      "Estimating covariance using EMPIRICAL\n",
      "Done.\n"
     ]
    },
    {
     "name": "stderr",
     "output_type": "stream",
     "text": [
      "/usr/local/lib/python3.6/dist-packages/sklearn/neural_network/multilayer_perceptron.py:566: ConvergenceWarning: Stochastic Optimizer: Maximum iterations (200) reached and the optimization hasn't converged yet.\n",
      "  % self.max_iter, ConvergenceWarning)\n",
      "/usr/local/lib/python3.6/dist-packages/sklearn/metrics/classification.py:1437: UndefinedMetricWarning: F-score is ill-defined and being set to 0.0 in labels with no predicted samples.\n",
      "  'precision', 'predicted', average, warn_for)\n"
     ]
    }
   ],
   "source": [
    "from sklearn.ensemble import RandomForestClassifier as RFC\n",
    "from sklearn.svm import SVC\n",
    "from sklearn.neural_network import MLPClassifier as MLP\n",
    "\n",
    "\n",
    "\n",
    "# Segundo metodo\n",
    "accuracies = []\n",
    "f1_scores = []\n",
    "kappas = []\n",
    "\n",
    "for subj in subjects:\n",
    "    \n",
    "    X_train = X[metadata[\"subject\"]==subj]\n",
    "    y_train = y[metadata[\"subject\"]==subj]\n",
    "    X_test = X[metadata[\"subject\"]!=subj]\n",
    "    y_test = y[metadata[\"subject\"]!=subj]\n",
    "    \n",
    "    print(subj)\n",
    "    # Caso LDA\n",
    "    #pipe_final = Pipeline([('csp', CSP(n_components=5)),\n",
    "    #                       ('classify', LDA(solver=\"eigen\", shrinkage=\"auto\"))])\n",
    "\n",
    "    # Caso RFC\n",
    "    #pipe_final = Pipeline([('csp', CSP(n_components=8)),\n",
    "    #                       ('classify', RFC(n_estimators=500, max_depth=4))])\n",
    "\n",
    "    # Caso SVM\n",
    "    #pipe_final = Pipeline([('csp', CSP(n_components=8)),\n",
    "    #                       ('classify', SVC(kernel=\"rbf\", gamma=0.1))])\n",
    "\n",
    "    # Caso MLP\n",
    "    pipe_final = Pipeline([('csp', CSP(n_components=5)),\n",
    "                           ('classify', MLP(hidden_layer_sizes=(100, 10),\n",
    "                                            activation=\"tanh\",\n",
    "                                            alpha=0.1,\n",
    "                                           learning_rate_init=0.001,\n",
    "                                           ))])\n",
    "\n",
    "\n",
    "    pipe_final.fit(X_train, y_train)\n",
    "    \n",
    "    # Estimación del dataset de prueba\n",
    "    y_hat = pipe_final.predict(X_test)\n",
    "    \n",
    "    # resultados a guardar\n",
    "    accuracies.append(np.mean(y_hat==y_test))\n",
    "    f1_scores.append(f1_score(y_test, y_hat, average=\"macro\"))\n",
    "    kappas.append(cohen_kappa_score(y_test, y_hat))\n"
   ]
  },
  {
   "cell_type": "code",
   "execution_count": 29,
   "metadata": {
    "colab": {
     "base_uri": "https://localhost:8080/",
     "height": 778
    },
    "colab_type": "code",
    "executionInfo": {
     "elapsed": 684,
     "status": "ok",
     "timestamp": 1574665619033,
     "user": {
      "displayName": "Carlos Emiliano Solorzano",
      "photoUrl": "https://lh3.googleusercontent.com/a-/AAuE7mAI0xsA-94mmMCv6P3qVs_r9N2cUt7wGRxyCP83c-M=s64",
      "userId": "18444532791108978567"
     },
     "user_tz": 360
    },
    "id": "UD_sKcOu_j8S",
    "outputId": "a8f69cd6-b913-498d-e5cf-836134fad181"
   },
   "outputs": [
    {
     "data": {
      "text/plain": [
       "<BarContainer object of 9 artists>"
      ]
     },
     "execution_count": 29,
     "metadata": {
      "tags": []
     },
     "output_type": "execute_result"
    },
    {
     "data": {
      "image/png": "[encoded data removed]",
      "text/plain": [
       "<Figure size 432x288 with 1 Axes>"
      ]
     },
     "metadata": {
      "tags": []
     },
     "output_type": "display_data"
    },
    {
     "data": {
      "image/png": "[encoded data removed]",
      "text/plain": [
       "<Figure size 432x288 with 1 Axes>"
      ]
     },
     "metadata": {
      "tags": []
     },
     "output_type": "display_data"
    },
    {
     "data": {
      "image/png": "[encoded data removed]",
      "text/plain": [
       "<Figure size 432x288 with 1 Axes>"
      ]
     },
     "metadata": {
      "tags": []
     },
     "output_type": "display_data"
    }
   ],
   "source": [
    "import matplotlib.pyplot as plt\n",
    "\n",
    "plt.figure()\n",
    "plt.bar(subjects, accuracies)\n",
    "\n",
    "plt.figure()\n",
    "plt.bar(subjects, f1_scores)\n",
    "\n",
    "plt.figure()\n",
    "plt.bar(subjects, kappas)"
   ]
  },
  {
   "cell_type": "code",
   "execution_count": null,
   "metadata": {
    "colab": {},
    "colab_type": "code",
    "id": "WWnNbglm_u5N"
   },
   "outputs": [],
   "source": [
    "pd.DataFrame({'Exactitud': accuracies,\n",
    "              'f1(macro)': f1_scores,\n",
    "              'Kappa': kappas}).transpose().to_csv(\"m2MLP.csv\")"
   ]
  },
  {
   "cell_type": "code",
   "execution_count": null,
   "metadata": {
    "colab": {},
    "colab_type": "code",
    "id": "QM0R-8xu_334"
   },
   "outputs": [],
   "source": []
  }
 ],
 "metadata": {
  "colab": {
   "collapsed_sections": [],
   "name": "GridSearch_CSP_GN.ipynb",
   "provenance": []
  },
  "kernelspec": {
   "display_name": "Python 3",
   "language": "python",
   "name": "python3"
  },
  "language_info": {
   "codemirror_mode": {
    "name": "ipython",
    "version": 3
   },
   "file_extension": ".py",
   "mimetype": "text/x-python",
   "name": "python",
   "nbconvert_exporter": "python",
   "pygments_lexer": "ipython3",
   "version": "3.7.6-final"
  }
 },
 "nbformat": 4,
 "nbformat_minor": 4
}